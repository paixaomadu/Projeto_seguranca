{
 "cells": [
  {
   "cell_type": "code",
   "execution_count": 34,
   "metadata": {},
   "outputs": [
    {
     "name": "stdout",
     "output_type": "stream",
     "text": [
      "float64\n"
     ]
    }
   ],
   "source": [
    "import pandas as pd \n",
    "import matplotlib.pyplot as plt\n",
    "\n",
    "df= pd.read_csv('CARAMELO.csv', sep= ';') # fonte da base de dados\n",
    "\n",
    "df['Valor de Venda']= df['Valor de Venda'].str.replace(',','.').astype(float) # transformando em float\n",
    "print(df['Valor de Venda'].dtype)"
   ]
  },
  {
   "cell_type": "code",
   "execution_count": 35,
   "metadata": {},
   "outputs": [
    {
     "data": {
      "text/html": [
       "<div>\n",
       "<style scoped>\n",
       "    .dataframe tbody tr th:only-of-type {\n",
       "        vertical-align: middle;\n",
       "    }\n",
       "\n",
       "    .dataframe tbody tr th {\n",
       "        vertical-align: top;\n",
       "    }\n",
       "\n",
       "    .dataframe thead th {\n",
       "        text-align: right;\n",
       "    }\n",
       "</style>\n",
       "<table border=\"1\" class=\"dataframe\">\n",
       "  <thead>\n",
       "    <tr style=\"text-align: right;\">\n",
       "      <th></th>\n",
       "      <th>Cidade Loja</th>\n",
       "      <th>Valor de Venda</th>\n",
       "    </tr>\n",
       "  </thead>\n",
       "  <tbody>\n",
       "    <tr>\n",
       "      <th>0</th>\n",
       "      <td>Campos dos Goytacazes</td>\n",
       "      <td>16643298.81</td>\n",
       "    </tr>\n",
       "    <tr>\n",
       "      <th>1</th>\n",
       "      <td>Rio de Janeiro</td>\n",
       "      <td>25747612.70</td>\n",
       "    </tr>\n",
       "  </tbody>\n",
       "</table>\n",
       "</div>"
      ],
      "text/plain": [
       "             Cidade Loja  Valor de Venda\n",
       "0  Campos dos Goytacazes     16643298.81\n",
       "1         Rio de Janeiro     25747612.70"
      ]
     },
     "execution_count": 35,
     "metadata": {},
     "output_type": "execute_result"
    }
   ],
   "source": [
    "# Valor de venda por cidades do RJ _________________________________________________________________\n",
    "df_rj= df.loc[df['Estado Loja']== 'RJ'] # filtrando pra lista ser apenas no estado do rio de janeiro\n",
    "df_rj= df_rj.groupby('Cidade Loja')['Valor de Venda'].sum().reset_index() \n",
    "df_rj= df_rj.sort_values(by= 'Valor de Venda')\n",
    "df_rj"
   ]
  },
  {
   "cell_type": "code",
   "execution_count": 36,
   "metadata": {},
   "outputs": [
    {
     "data": {
      "text/html": [
       "<div>\n",
       "<style scoped>\n",
       "    .dataframe tbody tr th:only-of-type {\n",
       "        vertical-align: middle;\n",
       "    }\n",
       "\n",
       "    .dataframe tbody tr th {\n",
       "        vertical-align: top;\n",
       "    }\n",
       "\n",
       "    .dataframe thead th {\n",
       "        text-align: right;\n",
       "    }\n",
       "</style>\n",
       "<table border=\"1\" class=\"dataframe\">\n",
       "  <thead>\n",
       "    <tr style=\"text-align: right;\">\n",
       "      <th></th>\n",
       "      <th>Cidade Loja</th>\n",
       "      <th>Valor de Venda</th>\n",
       "    </tr>\n",
       "  </thead>\n",
       "  <tbody>\n",
       "    <tr>\n",
       "      <th>6</th>\n",
       "      <td>Pelotas</td>\n",
       "      <td>6539116.94</td>\n",
       "    </tr>\n",
       "    <tr>\n",
       "      <th>5</th>\n",
       "      <td>Novo Hamburgo</td>\n",
       "      <td>6745646.45</td>\n",
       "    </tr>\n",
       "    <tr>\n",
       "      <th>1</th>\n",
       "      <td>Campinas</td>\n",
       "      <td>6746718.51</td>\n",
       "    </tr>\n",
       "    <tr>\n",
       "      <th>11</th>\n",
       "      <td>Santos</td>\n",
       "      <td>6938690.85</td>\n",
       "    </tr>\n",
       "    <tr>\n",
       "      <th>0</th>\n",
       "      <td>Camaçari</td>\n",
       "      <td>6990635.97</td>\n",
       "    </tr>\n",
       "    <tr>\n",
       "      <th>10</th>\n",
       "      <td>Salvador</td>\n",
       "      <td>7486069.30</td>\n",
       "    </tr>\n",
       "    <tr>\n",
       "      <th>8</th>\n",
       "      <td>Ribeirão Preto</td>\n",
       "      <td>7780460.75</td>\n",
       "    </tr>\n",
       "    <tr>\n",
       "      <th>7</th>\n",
       "      <td>Porto Alegre</td>\n",
       "      <td>7958426.67</td>\n",
       "    </tr>\n",
       "    <tr>\n",
       "      <th>3</th>\n",
       "      <td>Caxias do Sul</td>\n",
       "      <td>8458472.88</td>\n",
       "    </tr>\n",
       "    <tr>\n",
       "      <th>13</th>\n",
       "      <td>Uberlândia</td>\n",
       "      <td>9617626.31</td>\n",
       "    </tr>\n",
       "    <tr>\n",
       "      <th>4</th>\n",
       "      <td>Contagem</td>\n",
       "      <td>16396322.17</td>\n",
       "    </tr>\n",
       "    <tr>\n",
       "      <th>2</th>\n",
       "      <td>Campos dos Goytacazes</td>\n",
       "      <td>16643298.81</td>\n",
       "    </tr>\n",
       "    <tr>\n",
       "      <th>12</th>\n",
       "      <td>Sorocaba</td>\n",
       "      <td>23136406.31</td>\n",
       "    </tr>\n",
       "    <tr>\n",
       "      <th>9</th>\n",
       "      <td>Rio de Janeiro</td>\n",
       "      <td>25747612.70</td>\n",
       "    </tr>\n",
       "  </tbody>\n",
       "</table>\n",
       "</div>"
      ],
      "text/plain": [
       "              Cidade Loja  Valor de Venda\n",
       "6                 Pelotas      6539116.94\n",
       "5           Novo Hamburgo      6745646.45\n",
       "1                Campinas      6746718.51\n",
       "11                 Santos      6938690.85\n",
       "0                Camaçari      6990635.97\n",
       "10               Salvador      7486069.30\n",
       "8          Ribeirão Preto      7780460.75\n",
       "7            Porto Alegre      7958426.67\n",
       "3           Caxias do Sul      8458472.88\n",
       "13             Uberlândia      9617626.31\n",
       "4                Contagem     16396322.17\n",
       "2   Campos dos Goytacazes     16643298.81\n",
       "12               Sorocaba     23136406.31\n",
       "9          Rio de Janeiro     25747612.70"
      ]
     },
     "execution_count": 36,
     "metadata": {},
     "output_type": "execute_result"
    }
   ],
   "source": [
    "# Valor de venda por cidade da loja ________________________________________________________________\n",
    "df_por_cidade= df.groupby('Cidade Loja')['Valor de Venda'].sum().reset_index()\n",
    "df_por_cidade= df_por_cidade.sort_values(by= 'Valor de Venda')\n",
    "df_por_cidade"
   ]
  },
  {
   "cell_type": "code",
   "execution_count": 37,
   "metadata": {},
   "outputs": [
    {
     "data": {
      "text/html": [
       "<div>\n",
       "<style scoped>\n",
       "    .dataframe tbody tr th:only-of-type {\n",
       "        vertical-align: middle;\n",
       "    }\n",
       "\n",
       "    .dataframe tbody tr th {\n",
       "        vertical-align: top;\n",
       "    }\n",
       "\n",
       "    .dataframe thead th {\n",
       "        text-align: right;\n",
       "    }\n",
       "</style>\n",
       "<table border=\"1\" class=\"dataframe\">\n",
       "  <thead>\n",
       "    <tr style=\"text-align: right;\">\n",
       "      <th></th>\n",
       "      <th>Categoria Produto</th>\n",
       "      <th>Valor de Venda</th>\n",
       "    </tr>\n",
       "  </thead>\n",
       "  <tbody>\n",
       "    <tr>\n",
       "      <th>0</th>\n",
       "      <td>Alimentos</td>\n",
       "      <td>26.691989</td>\n",
       "    </tr>\n",
       "    <tr>\n",
       "      <th>2</th>\n",
       "      <td>Livros</td>\n",
       "      <td>108.031487</td>\n",
       "    </tr>\n",
       "    <tr>\n",
       "      <th>4</th>\n",
       "      <td>Roupas</td>\n",
       "      <td>268.037649</td>\n",
       "    </tr>\n",
       "    <tr>\n",
       "      <th>3</th>\n",
       "      <td>Móveis</td>\n",
       "      <td>2543.021620</td>\n",
       "    </tr>\n",
       "    <tr>\n",
       "      <th>1</th>\n",
       "      <td>Eletrônicos</td>\n",
       "      <td>5084.322521</td>\n",
       "    </tr>\n",
       "  </tbody>\n",
       "</table>\n",
       "</div>"
      ],
      "text/plain": [
       "  Categoria Produto  Valor de Venda\n",
       "0         Alimentos       26.691989\n",
       "2            Livros      108.031487\n",
       "4            Roupas      268.037649\n",
       "3            Móveis     2543.021620\n",
       "1       Eletrônicos     5084.322521"
      ]
     },
     "execution_count": 37,
     "metadata": {},
     "output_type": "execute_result"
    }
   ],
   "source": [
    "# Média de venda por categoria de produto __________________________________________________________\n",
    "df_por_produto= df.groupby('Categoria Produto')['Valor de Venda'].mean().reset_index()\n",
    "df_por_produto= df_por_produto.sort_values(by= 'Valor de Venda')\n",
    "df_por_produto"
   ]
  },
  {
   "cell_type": "code",
   "execution_count": 38,
   "metadata": {},
   "outputs": [
    {
     "data": {
      "text/html": [
       "<div>\n",
       "<style scoped>\n",
       "    .dataframe tbody tr th:only-of-type {\n",
       "        vertical-align: middle;\n",
       "    }\n",
       "\n",
       "    .dataframe tbody tr th {\n",
       "        vertical-align: top;\n",
       "    }\n",
       "\n",
       "    .dataframe thead th {\n",
       "        text-align: right;\n",
       "    }\n",
       "</style>\n",
       "<table border=\"1\" class=\"dataframe\">\n",
       "  <thead>\n",
       "    <tr style=\"text-align: right;\">\n",
       "      <th></th>\n",
       "      <th>Marca</th>\n",
       "      <th>Valor de Venda</th>\n",
       "    </tr>\n",
       "  </thead>\n",
       "  <tbody>\n",
       "    <tr>\n",
       "      <th>3</th>\n",
       "      <td>Lenovo</td>\n",
       "      <td>9886618.38</td>\n",
       "    </tr>\n",
       "    <tr>\n",
       "      <th>1</th>\n",
       "      <td>Dell</td>\n",
       "      <td>10127483.74</td>\n",
       "    </tr>\n",
       "    <tr>\n",
       "      <th>4</th>\n",
       "      <td>Microsoft</td>\n",
       "      <td>19517697.15</td>\n",
       "    </tr>\n",
       "    <tr>\n",
       "      <th>5</th>\n",
       "      <td>Sony</td>\n",
       "      <td>19789108.08</td>\n",
       "    </tr>\n",
       "    <tr>\n",
       "      <th>2</th>\n",
       "      <td>HP</td>\n",
       "      <td>20096928.50</td>\n",
       "    </tr>\n",
       "    <tr>\n",
       "      <th>0</th>\n",
       "      <td>Apple</td>\n",
       "      <td>29767990.28</td>\n",
       "    </tr>\n",
       "  </tbody>\n",
       "</table>\n",
       "</div>"
      ],
      "text/plain": [
       "       Marca  Valor de Venda\n",
       "3     Lenovo      9886618.38\n",
       "1       Dell     10127483.74\n",
       "4  Microsoft     19517697.15\n",
       "5       Sony     19789108.08\n",
       "2         HP     20096928.50\n",
       "0      Apple     29767990.28"
      ]
     },
     "execution_count": 38,
     "metadata": {},
     "output_type": "execute_result"
    }
   ],
   "source": [
    "# Valor de venda de marcas que vendem produtos eletronicos __________________________________________\n",
    "df_eletric= df.loc[df['Categoria Produto']== 'Eletrônicos']\n",
    "df_eletric= df_eletric.groupby('Marca')['Valor de Venda'].sum().reset_index() \n",
    "df_eletric= df_eletric.sort_values(by= 'Valor de Venda')\n",
    "df_eletric"
   ]
  },
  {
   "cell_type": "code",
   "execution_count": 42,
   "metadata": {},
   "outputs": [
    {
     "data": {
      "image/png": "[encoded data removed]",
      "text/plain": [
       "<Figure size 640x480 with 1 Axes>"
      ]
     },
     "metadata": {},
     "output_type": "display_data"
    }
   ],
   "source": [
    "df_eletric.plot(kind='bar', x= 'Marca', y='Valor de Venda')\n",
    "plt.xlabel('\\nMarcas Produto') \n",
    "plt.ylabel('Valor de Venda')\n",
    "plt.title('Valor de venda por marca')\n",
    "plt.show()"
   ]
  }
 ],
 "metadata": {
  "kernelspec": {
   "display_name": "Python 3",
   "language": "python",
   "name": "python3"
  },
  "language_info": {
   "codemirror_mode": {
    "name": "ipython",
    "version": 3
   },
   "file_extension": ".py",
   "mimetype": "text/x-python",
   "name": "python",
   "nbconvert_exporter": "python",
   "pygments_lexer": "ipython3",
   "version": "3.11.4"
  },
  "orig_nbformat": 4
 },
 "nbformat": 4,
 "nbformat_minor": 2
}
